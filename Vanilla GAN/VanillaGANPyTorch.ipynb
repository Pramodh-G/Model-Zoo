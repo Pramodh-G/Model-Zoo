{
  "nbformat": 4,
  "nbformat_minor": 0,
  "metadata": {
    "colab": {
      "name": "VanillaGANPyTorch.ipynb",
      "provenance": [],
      "collapsed_sections": []
    },
    "kernelspec": {
      "name": "python3",
      "display_name": "Python 3"
    },
    "accelerator": "GPU",
    "widgets": {
      "application/vnd.jupyter.widget-state+json": {
        "0716c67cea8a4d1ea326dc09e9af3a57": {
          "model_module": "@jupyter-widgets/controls",
          "model_name": "HBoxModel",
          "state": {
            "_view_name": "HBoxView",
            "_dom_classes": [],
            "_model_name": "HBoxModel",
            "_view_module": "@jupyter-widgets/controls",
            "_model_module_version": "1.5.0",
            "_view_count": null,
            "_view_module_version": "1.5.0",
            "box_style": "",
            "layout": "IPY_MODEL_574497b41e454ec99612cf500b700f1b",
            "_model_module": "@jupyter-widgets/controls",
            "children": [
              "IPY_MODEL_747e25ce027d4cda883b0185a340ed1d",
              "IPY_MODEL_aa0bb747b3c14fe0a22921a8713bd67c"
            ]
          }
        },
        "574497b41e454ec99612cf500b700f1b": {
          "model_module": "@jupyter-widgets/base",
          "model_name": "LayoutModel",
          "state": {
            "_view_name": "LayoutView",
            "grid_template_rows": null,
            "right": null,
            "justify_content": null,
            "_view_module": "@jupyter-widgets/base",
            "overflow": null,
            "_model_module_version": "1.2.0",
            "_view_count": null,
            "flex_flow": null,
            "width": null,
            "min_width": null,
            "border": null,
            "align_items": null,
            "bottom": null,
            "_model_module": "@jupyter-widgets/base",
            "top": null,
            "grid_column": null,
            "overflow_y": null,
            "overflow_x": null,
            "grid_auto_flow": null,
            "grid_area": null,
            "grid_template_columns": null,
            "flex": null,
            "_model_name": "LayoutModel",
            "justify_items": null,
            "grid_row": null,
            "max_height": null,
            "align_content": null,
            "visibility": null,
            "align_self": null,
            "height": null,
            "min_height": null,
            "padding": null,
            "grid_auto_rows": null,
            "grid_gap": null,
            "max_width": null,
            "order": null,
            "_view_module_version": "1.2.0",
            "grid_template_areas": null,
            "object_position": null,
            "object_fit": null,
            "grid_auto_columns": null,
            "margin": null,
            "display": null,
            "left": null
          }
        },
        "747e25ce027d4cda883b0185a340ed1d": {
          "model_module": "@jupyter-widgets/controls",
          "model_name": "FloatProgressModel",
          "state": {
            "_view_name": "ProgressView",
            "style": "IPY_MODEL_f4efc9d8ff3f425a8d88d1a8c1c47c45",
            "_dom_classes": [],
            "description": "",
            "_model_name": "FloatProgressModel",
            "bar_style": "info",
            "max": 1,
            "_view_module": "@jupyter-widgets/controls",
            "_model_module_version": "1.5.0",
            "value": 1,
            "_view_count": null,
            "_view_module_version": "1.5.0",
            "orientation": "horizontal",
            "min": 0,
            "description_tooltip": null,
            "_model_module": "@jupyter-widgets/controls",
            "layout": "IPY_MODEL_aeda9e033dbb455fb3b8ba192d3451e9"
          }
        },
        "aa0bb747b3c14fe0a22921a8713bd67c": {
          "model_module": "@jupyter-widgets/controls",
          "model_name": "HTMLModel",
          "state": {
            "_view_name": "HTMLView",
            "style": "IPY_MODEL_ec0e23e6e3294d0e8ea216afc82d6819",
            "_dom_classes": [],
            "description": "",
            "_model_name": "HTMLModel",
            "placeholder": "​",
            "_view_module": "@jupyter-widgets/controls",
            "_model_module_version": "1.5.0",
            "value": " 9920512/? [00:20&lt;00:00, 631423.69it/s]",
            "_view_count": null,
            "_view_module_version": "1.5.0",
            "description_tooltip": null,
            "_model_module": "@jupyter-widgets/controls",
            "layout": "IPY_MODEL_48576777d30340dab45a37f99748d834"
          }
        },
        "f4efc9d8ff3f425a8d88d1a8c1c47c45": {
          "model_module": "@jupyter-widgets/controls",
          "model_name": "ProgressStyleModel",
          "state": {
            "_view_name": "StyleView",
            "_model_name": "ProgressStyleModel",
            "description_width": "initial",
            "_view_module": "@jupyter-widgets/base",
            "_model_module_version": "1.5.0",
            "_view_count": null,
            "_view_module_version": "1.2.0",
            "bar_color": null,
            "_model_module": "@jupyter-widgets/controls"
          }
        },
        "aeda9e033dbb455fb3b8ba192d3451e9": {
          "model_module": "@jupyter-widgets/base",
          "model_name": "LayoutModel",
          "state": {
            "_view_name": "LayoutView",
            "grid_template_rows": null,
            "right": null,
            "justify_content": null,
            "_view_module": "@jupyter-widgets/base",
            "overflow": null,
            "_model_module_version": "1.2.0",
            "_view_count": null,
            "flex_flow": null,
            "width": null,
            "min_width": null,
            "border": null,
            "align_items": null,
            "bottom": null,
            "_model_module": "@jupyter-widgets/base",
            "top": null,
            "grid_column": null,
            "overflow_y": null,
            "overflow_x": null,
            "grid_auto_flow": null,
            "grid_area": null,
            "grid_template_columns": null,
            "flex": null,
            "_model_name": "LayoutModel",
            "justify_items": null,
            "grid_row": null,
            "max_height": null,
            "align_content": null,
            "visibility": null,
            "align_self": null,
            "height": null,
            "min_height": null,
            "padding": null,
            "grid_auto_rows": null,
            "grid_gap": null,
            "max_width": null,
            "order": null,
            "_view_module_version": "1.2.0",
            "grid_template_areas": null,
            "object_position": null,
            "object_fit": null,
            "grid_auto_columns": null,
            "margin": null,
            "display": null,
            "left": null
          }
        },
        "ec0e23e6e3294d0e8ea216afc82d6819": {
          "model_module": "@jupyter-widgets/controls",
          "model_name": "DescriptionStyleModel",
          "state": {
            "_view_name": "StyleView",
            "_model_name": "DescriptionStyleModel",
            "description_width": "",
            "_view_module": "@jupyter-widgets/base",
            "_model_module_version": "1.5.0",
            "_view_count": null,
            "_view_module_version": "1.2.0",
            "_model_module": "@jupyter-widgets/controls"
          }
        },
        "48576777d30340dab45a37f99748d834": {
          "model_module": "@jupyter-widgets/base",
          "model_name": "LayoutModel",
          "state": {
            "_view_name": "LayoutView",
            "grid_template_rows": null,
            "right": null,
            "justify_content": null,
            "_view_module": "@jupyter-widgets/base",
            "overflow": null,
            "_model_module_version": "1.2.0",
            "_view_count": null,
            "flex_flow": null,
            "width": null,
            "min_width": null,
            "border": null,
            "align_items": null,
            "bottom": null,
            "_model_module": "@jupyter-widgets/base",
            "top": null,
            "grid_column": null,
            "overflow_y": null,
            "overflow_x": null,
            "grid_auto_flow": null,
            "grid_area": null,
            "grid_template_columns": null,
            "flex": null,
            "_model_name": "LayoutModel",
            "justify_items": null,
            "grid_row": null,
            "max_height": null,
            "align_content": null,
            "visibility": null,
            "align_self": null,
            "height": null,
            "min_height": null,
            "padding": null,
            "grid_auto_rows": null,
            "grid_gap": null,
            "max_width": null,
            "order": null,
            "_view_module_version": "1.2.0",
            "grid_template_areas": null,
            "object_position": null,
            "object_fit": null,
            "grid_auto_columns": null,
            "margin": null,
            "display": null,
            "left": null
          }
        },
        "ab316e90da784994bf6bfbff236722a5": {
          "model_module": "@jupyter-widgets/controls",
          "model_name": "HBoxModel",
          "state": {
            "_view_name": "HBoxView",
            "_dom_classes": [],
            "_model_name": "HBoxModel",
            "_view_module": "@jupyter-widgets/controls",
            "_model_module_version": "1.5.0",
            "_view_count": null,
            "_view_module_version": "1.5.0",
            "box_style": "",
            "layout": "IPY_MODEL_330fc81337424408b005cd62d05dd1a2",
            "_model_module": "@jupyter-widgets/controls",
            "children": [
              "IPY_MODEL_34c43dd6c4864a9b95881bc91f365419",
              "IPY_MODEL_2bedbd76f4214d02a4e0c88947f155ad"
            ]
          }
        },
        "330fc81337424408b005cd62d05dd1a2": {
          "model_module": "@jupyter-widgets/base",
          "model_name": "LayoutModel",
          "state": {
            "_view_name": "LayoutView",
            "grid_template_rows": null,
            "right": null,
            "justify_content": null,
            "_view_module": "@jupyter-widgets/base",
            "overflow": null,
            "_model_module_version": "1.2.0",
            "_view_count": null,
            "flex_flow": null,
            "width": null,
            "min_width": null,
            "border": null,
            "align_items": null,
            "bottom": null,
            "_model_module": "@jupyter-widgets/base",
            "top": null,
            "grid_column": null,
            "overflow_y": null,
            "overflow_x": null,
            "grid_auto_flow": null,
            "grid_area": null,
            "grid_template_columns": null,
            "flex": null,
            "_model_name": "LayoutModel",
            "justify_items": null,
            "grid_row": null,
            "max_height": null,
            "align_content": null,
            "visibility": null,
            "align_self": null,
            "height": null,
            "min_height": null,
            "padding": null,
            "grid_auto_rows": null,
            "grid_gap": null,
            "max_width": null,
            "order": null,
            "_view_module_version": "1.2.0",
            "grid_template_areas": null,
            "object_position": null,
            "object_fit": null,
            "grid_auto_columns": null,
            "margin": null,
            "display": null,
            "left": null
          }
        },
        "34c43dd6c4864a9b95881bc91f365419": {
          "model_module": "@jupyter-widgets/controls",
          "model_name": "FloatProgressModel",
          "state": {
            "_view_name": "ProgressView",
            "style": "IPY_MODEL_8d990cc973c148ae80ad49460cb93e7f",
            "_dom_classes": [],
            "description": "",
            "_model_name": "FloatProgressModel",
            "bar_style": "success",
            "max": 1,
            "_view_module": "@jupyter-widgets/controls",
            "_model_module_version": "1.5.0",
            "value": 1,
            "_view_count": null,
            "_view_module_version": "1.5.0",
            "orientation": "horizontal",
            "min": 0,
            "description_tooltip": null,
            "_model_module": "@jupyter-widgets/controls",
            "layout": "IPY_MODEL_ea57496e08b34b3f9f985612b240a1e6"
          }
        },
        "2bedbd76f4214d02a4e0c88947f155ad": {
          "model_module": "@jupyter-widgets/controls",
          "model_name": "HTMLModel",
          "state": {
            "_view_name": "HTMLView",
            "style": "IPY_MODEL_e02edaaf77c34730adf9b81958249376",
            "_dom_classes": [],
            "description": "",
            "_model_name": "HTMLModel",
            "placeholder": "​",
            "_view_module": "@jupyter-widgets/controls",
            "_model_module_version": "1.5.0",
            "value": " 32768/? [00:00&lt;00:00, 97318.10it/s]",
            "_view_count": null,
            "_view_module_version": "1.5.0",
            "description_tooltip": null,
            "_model_module": "@jupyter-widgets/controls",
            "layout": "IPY_MODEL_f17a4053f6034fb2a4aeae7514c05419"
          }
        },
        "8d990cc973c148ae80ad49460cb93e7f": {
          "model_module": "@jupyter-widgets/controls",
          "model_name": "ProgressStyleModel",
          "state": {
            "_view_name": "StyleView",
            "_model_name": "ProgressStyleModel",
            "description_width": "initial",
            "_view_module": "@jupyter-widgets/base",
            "_model_module_version": "1.5.0",
            "_view_count": null,
            "_view_module_version": "1.2.0",
            "bar_color": null,
            "_model_module": "@jupyter-widgets/controls"
          }
        },
        "ea57496e08b34b3f9f985612b240a1e6": {
          "model_module": "@jupyter-widgets/base",
          "model_name": "LayoutModel",
          "state": {
            "_view_name": "LayoutView",
            "grid_template_rows": null,
            "right": null,
            "justify_content": null,
            "_view_module": "@jupyter-widgets/base",
            "overflow": null,
            "_model_module_version": "1.2.0",
            "_view_count": null,
            "flex_flow": null,
            "width": null,
            "min_width": null,
            "border": null,
            "align_items": null,
            "bottom": null,
            "_model_module": "@jupyter-widgets/base",
            "top": null,
            "grid_column": null,
            "overflow_y": null,
            "overflow_x": null,
            "grid_auto_flow": null,
            "grid_area": null,
            "grid_template_columns": null,
            "flex": null,
            "_model_name": "LayoutModel",
            "justify_items": null,
            "grid_row": null,
            "max_height": null,
            "align_content": null,
            "visibility": null,
            "align_self": null,
            "height": null,
            "min_height": null,
            "padding": null,
            "grid_auto_rows": null,
            "grid_gap": null,
            "max_width": null,
            "order": null,
            "_view_module_version": "1.2.0",
            "grid_template_areas": null,
            "object_position": null,
            "object_fit": null,
            "grid_auto_columns": null,
            "margin": null,
            "display": null,
            "left": null
          }
        },
        "e02edaaf77c34730adf9b81958249376": {
          "model_module": "@jupyter-widgets/controls",
          "model_name": "DescriptionStyleModel",
          "state": {
            "_view_name": "StyleView",
            "_model_name": "DescriptionStyleModel",
            "description_width": "",
            "_view_module": "@jupyter-widgets/base",
            "_model_module_version": "1.5.0",
            "_view_count": null,
            "_view_module_version": "1.2.0",
            "_model_module": "@jupyter-widgets/controls"
          }
        },
        "f17a4053f6034fb2a4aeae7514c05419": {
          "model_module": "@jupyter-widgets/base",
          "model_name": "LayoutModel",
          "state": {
            "_view_name": "LayoutView",
            "grid_template_rows": null,
            "right": null,
            "justify_content": null,
            "_view_module": "@jupyter-widgets/base",
            "overflow": null,
            "_model_module_version": "1.2.0",
            "_view_count": null,
            "flex_flow": null,
            "width": null,
            "min_width": null,
            "border": null,
            "align_items": null,
            "bottom": null,
            "_model_module": "@jupyter-widgets/base",
            "top": null,
            "grid_column": null,
            "overflow_y": null,
            "overflow_x": null,
            "grid_auto_flow": null,
            "grid_area": null,
            "grid_template_columns": null,
            "flex": null,
            "_model_name": "LayoutModel",
            "justify_items": null,
            "grid_row": null,
            "max_height": null,
            "align_content": null,
            "visibility": null,
            "align_self": null,
            "height": null,
            "min_height": null,
            "padding": null,
            "grid_auto_rows": null,
            "grid_gap": null,
            "max_width": null,
            "order": null,
            "_view_module_version": "1.2.0",
            "grid_template_areas": null,
            "object_position": null,
            "object_fit": null,
            "grid_auto_columns": null,
            "margin": null,
            "display": null,
            "left": null
          }
        },
        "65744ceddb89460897ad98be80d567e2": {
          "model_module": "@jupyter-widgets/controls",
          "model_name": "HBoxModel",
          "state": {
            "_view_name": "HBoxView",
            "_dom_classes": [],
            "_model_name": "HBoxModel",
            "_view_module": "@jupyter-widgets/controls",
            "_model_module_version": "1.5.0",
            "_view_count": null,
            "_view_module_version": "1.5.0",
            "box_style": "",
            "layout": "IPY_MODEL_93cb5b314cf840d48703942ad2ee360c",
            "_model_module": "@jupyter-widgets/controls",
            "children": [
              "IPY_MODEL_fcc7c60bfe0f4459ae5ce34aca80d405",
              "IPY_MODEL_1d2ebde64bf045d087fad1188aca52eb"
            ]
          }
        },
        "93cb5b314cf840d48703942ad2ee360c": {
          "model_module": "@jupyter-widgets/base",
          "model_name": "LayoutModel",
          "state": {
            "_view_name": "LayoutView",
            "grid_template_rows": null,
            "right": null,
            "justify_content": null,
            "_view_module": "@jupyter-widgets/base",
            "overflow": null,
            "_model_module_version": "1.2.0",
            "_view_count": null,
            "flex_flow": null,
            "width": null,
            "min_width": null,
            "border": null,
            "align_items": null,
            "bottom": null,
            "_model_module": "@jupyter-widgets/base",
            "top": null,
            "grid_column": null,
            "overflow_y": null,
            "overflow_x": null,
            "grid_auto_flow": null,
            "grid_area": null,
            "grid_template_columns": null,
            "flex": null,
            "_model_name": "LayoutModel",
            "justify_items": null,
            "grid_row": null,
            "max_height": null,
            "align_content": null,
            "visibility": null,
            "align_self": null,
            "height": null,
            "min_height": null,
            "padding": null,
            "grid_auto_rows": null,
            "grid_gap": null,
            "max_width": null,
            "order": null,
            "_view_module_version": "1.2.0",
            "grid_template_areas": null,
            "object_position": null,
            "object_fit": null,
            "grid_auto_columns": null,
            "margin": null,
            "display": null,
            "left": null
          }
        },
        "fcc7c60bfe0f4459ae5ce34aca80d405": {
          "model_module": "@jupyter-widgets/controls",
          "model_name": "FloatProgressModel",
          "state": {
            "_view_name": "ProgressView",
            "style": "IPY_MODEL_34836d3ac2384e9dba26218b046639ac",
            "_dom_classes": [],
            "description": "",
            "_model_name": "FloatProgressModel",
            "bar_style": "info",
            "max": 1,
            "_view_module": "@jupyter-widgets/controls",
            "_model_module_version": "1.5.0",
            "value": 1,
            "_view_count": null,
            "_view_module_version": "1.5.0",
            "orientation": "horizontal",
            "min": 0,
            "description_tooltip": null,
            "_model_module": "@jupyter-widgets/controls",
            "layout": "IPY_MODEL_4e9562ef95254571b5fa0f09c5e2e90e"
          }
        },
        "1d2ebde64bf045d087fad1188aca52eb": {
          "model_module": "@jupyter-widgets/controls",
          "model_name": "HTMLModel",
          "state": {
            "_view_name": "HTMLView",
            "style": "IPY_MODEL_b83eb75f48184daa8c66a68df7c43ace",
            "_dom_classes": [],
            "description": "",
            "_model_name": "HTMLModel",
            "placeholder": "​",
            "_view_module": "@jupyter-widgets/controls",
            "_model_module_version": "1.5.0",
            "value": " 1654784/? [00:18&lt;00:00, 254595.80it/s]",
            "_view_count": null,
            "_view_module_version": "1.5.0",
            "description_tooltip": null,
            "_model_module": "@jupyter-widgets/controls",
            "layout": "IPY_MODEL_0df73fa6bf384658adf944b8830e57c1"
          }
        },
        "34836d3ac2384e9dba26218b046639ac": {
          "model_module": "@jupyter-widgets/controls",
          "model_name": "ProgressStyleModel",
          "state": {
            "_view_name": "StyleView",
            "_model_name": "ProgressStyleModel",
            "description_width": "initial",
            "_view_module": "@jupyter-widgets/base",
            "_model_module_version": "1.5.0",
            "_view_count": null,
            "_view_module_version": "1.2.0",
            "bar_color": null,
            "_model_module": "@jupyter-widgets/controls"
          }
        },
        "4e9562ef95254571b5fa0f09c5e2e90e": {
          "model_module": "@jupyter-widgets/base",
          "model_name": "LayoutModel",
          "state": {
            "_view_name": "LayoutView",
            "grid_template_rows": null,
            "right": null,
            "justify_content": null,
            "_view_module": "@jupyter-widgets/base",
            "overflow": null,
            "_model_module_version": "1.2.0",
            "_view_count": null,
            "flex_flow": null,
            "width": null,
            "min_width": null,
            "border": null,
            "align_items": null,
            "bottom": null,
            "_model_module": "@jupyter-widgets/base",
            "top": null,
            "grid_column": null,
            "overflow_y": null,
            "overflow_x": null,
            "grid_auto_flow": null,
            "grid_area": null,
            "grid_template_columns": null,
            "flex": null,
            "_model_name": "LayoutModel",
            "justify_items": null,
            "grid_row": null,
            "max_height": null,
            "align_content": null,
            "visibility": null,
            "align_self": null,
            "height": null,
            "min_height": null,
            "padding": null,
            "grid_auto_rows": null,
            "grid_gap": null,
            "max_width": null,
            "order": null,
            "_view_module_version": "1.2.0",
            "grid_template_areas": null,
            "object_position": null,
            "object_fit": null,
            "grid_auto_columns": null,
            "margin": null,
            "display": null,
            "left": null
          }
        },
        "b83eb75f48184daa8c66a68df7c43ace": {
          "model_module": "@jupyter-widgets/controls",
          "model_name": "DescriptionStyleModel",
          "state": {
            "_view_name": "StyleView",
            "_model_name": "DescriptionStyleModel",
            "description_width": "",
            "_view_module": "@jupyter-widgets/base",
            "_model_module_version": "1.5.0",
            "_view_count": null,
            "_view_module_version": "1.2.0",
            "_model_module": "@jupyter-widgets/controls"
          }
        },
        "0df73fa6bf384658adf944b8830e57c1": {
          "model_module": "@jupyter-widgets/base",
          "model_name": "LayoutModel",
          "state": {
            "_view_name": "LayoutView",
            "grid_template_rows": null,
            "right": null,
            "justify_content": null,
            "_view_module": "@jupyter-widgets/base",
            "overflow": null,
            "_model_module_version": "1.2.0",
            "_view_count": null,
            "flex_flow": null,
            "width": null,
            "min_width": null,
            "border": null,
            "align_items": null,
            "bottom": null,
            "_model_module": "@jupyter-widgets/base",
            "top": null,
            "grid_column": null,
            "overflow_y": null,
            "overflow_x": null,
            "grid_auto_flow": null,
            "grid_area": null,
            "grid_template_columns": null,
            "flex": null,
            "_model_name": "LayoutModel",
            "justify_items": null,
            "grid_row": null,
            "max_height": null,
            "align_content": null,
            "visibility": null,
            "align_self": null,
            "height": null,
            "min_height": null,
            "padding": null,
            "grid_auto_rows": null,
            "grid_gap": null,
            "max_width": null,
            "order": null,
            "_view_module_version": "1.2.0",
            "grid_template_areas": null,
            "object_position": null,
            "object_fit": null,
            "grid_auto_columns": null,
            "margin": null,
            "display": null,
            "left": null
          }
        },
        "8854be51d6c6440c88a4f33e73b9572c": {
          "model_module": "@jupyter-widgets/controls",
          "model_name": "HBoxModel",
          "state": {
            "_view_name": "HBoxView",
            "_dom_classes": [],
            "_model_name": "HBoxModel",
            "_view_module": "@jupyter-widgets/controls",
            "_model_module_version": "1.5.0",
            "_view_count": null,
            "_view_module_version": "1.5.0",
            "box_style": "",
            "layout": "IPY_MODEL_3cc81b92c48f4b0c977dd48008b17718",
            "_model_module": "@jupyter-widgets/controls",
            "children": [
              "IPY_MODEL_65a0a5e738a945a58d3e8bb254b7c814",
              "IPY_MODEL_5f6681f6a9ab4029aa20ed2285ca0cf0"
            ]
          }
        },
        "3cc81b92c48f4b0c977dd48008b17718": {
          "model_module": "@jupyter-widgets/base",
          "model_name": "LayoutModel",
          "state": {
            "_view_name": "LayoutView",
            "grid_template_rows": null,
            "right": null,
            "justify_content": null,
            "_view_module": "@jupyter-widgets/base",
            "overflow": null,
            "_model_module_version": "1.2.0",
            "_view_count": null,
            "flex_flow": null,
            "width": null,
            "min_width": null,
            "border": null,
            "align_items": null,
            "bottom": null,
            "_model_module": "@jupyter-widgets/base",
            "top": null,
            "grid_column": null,
            "overflow_y": null,
            "overflow_x": null,
            "grid_auto_flow": null,
            "grid_area": null,
            "grid_template_columns": null,
            "flex": null,
            "_model_name": "LayoutModel",
            "justify_items": null,
            "grid_row": null,
            "max_height": null,
            "align_content": null,
            "visibility": null,
            "align_self": null,
            "height": null,
            "min_height": null,
            "padding": null,
            "grid_auto_rows": null,
            "grid_gap": null,
            "max_width": null,
            "order": null,
            "_view_module_version": "1.2.0",
            "grid_template_areas": null,
            "object_position": null,
            "object_fit": null,
            "grid_auto_columns": null,
            "margin": null,
            "display": null,
            "left": null
          }
        },
        "65a0a5e738a945a58d3e8bb254b7c814": {
          "model_module": "@jupyter-widgets/controls",
          "model_name": "FloatProgressModel",
          "state": {
            "_view_name": "ProgressView",
            "style": "IPY_MODEL_80401522c1064129aa4a35ae84eb0589",
            "_dom_classes": [],
            "description": "",
            "_model_name": "FloatProgressModel",
            "bar_style": "success",
            "max": 1,
            "_view_module": "@jupyter-widgets/controls",
            "_model_module_version": "1.5.0",
            "value": 1,
            "_view_count": null,
            "_view_module_version": "1.5.0",
            "orientation": "horizontal",
            "min": 0,
            "description_tooltip": null,
            "_model_module": "@jupyter-widgets/controls",
            "layout": "IPY_MODEL_0a8e71ffd78042efa1005e88cadc29de"
          }
        },
        "5f6681f6a9ab4029aa20ed2285ca0cf0": {
          "model_module": "@jupyter-widgets/controls",
          "model_name": "HTMLModel",
          "state": {
            "_view_name": "HTMLView",
            "style": "IPY_MODEL_1d1c6155a4a546018bcc4586e5f6bdf2",
            "_dom_classes": [],
            "description": "",
            "_model_name": "HTMLModel",
            "placeholder": "​",
            "_view_module": "@jupyter-widgets/controls",
            "_model_module_version": "1.5.0",
            "value": " 8192/? [00:03&lt;00:00, 2104.38it/s]",
            "_view_count": null,
            "_view_module_version": "1.5.0",
            "description_tooltip": null,
            "_model_module": "@jupyter-widgets/controls",
            "layout": "IPY_MODEL_286698bf24434a08961e5313a98b5ffe"
          }
        },
        "80401522c1064129aa4a35ae84eb0589": {
          "model_module": "@jupyter-widgets/controls",
          "model_name": "ProgressStyleModel",
          "state": {
            "_view_name": "StyleView",
            "_model_name": "ProgressStyleModel",
            "description_width": "initial",
            "_view_module": "@jupyter-widgets/base",
            "_model_module_version": "1.5.0",
            "_view_count": null,
            "_view_module_version": "1.2.0",
            "bar_color": null,
            "_model_module": "@jupyter-widgets/controls"
          }
        },
        "0a8e71ffd78042efa1005e88cadc29de": {
          "model_module": "@jupyter-widgets/base",
          "model_name": "LayoutModel",
          "state": {
            "_view_name": "LayoutView",
            "grid_template_rows": null,
            "right": null,
            "justify_content": null,
            "_view_module": "@jupyter-widgets/base",
            "overflow": null,
            "_model_module_version": "1.2.0",
            "_view_count": null,
            "flex_flow": null,
            "width": null,
            "min_width": null,
            "border": null,
            "align_items": null,
            "bottom": null,
            "_model_module": "@jupyter-widgets/base",
            "top": null,
            "grid_column": null,
            "overflow_y": null,
            "overflow_x": null,
            "grid_auto_flow": null,
            "grid_area": null,
            "grid_template_columns": null,
            "flex": null,
            "_model_name": "LayoutModel",
            "justify_items": null,
            "grid_row": null,
            "max_height": null,
            "align_content": null,
            "visibility": null,
            "align_self": null,
            "height": null,
            "min_height": null,
            "padding": null,
            "grid_auto_rows": null,
            "grid_gap": null,
            "max_width": null,
            "order": null,
            "_view_module_version": "1.2.0",
            "grid_template_areas": null,
            "object_position": null,
            "object_fit": null,
            "grid_auto_columns": null,
            "margin": null,
            "display": null,
            "left": null
          }
        },
        "1d1c6155a4a546018bcc4586e5f6bdf2": {
          "model_module": "@jupyter-widgets/controls",
          "model_name": "DescriptionStyleModel",
          "state": {
            "_view_name": "StyleView",
            "_model_name": "DescriptionStyleModel",
            "description_width": "",
            "_view_module": "@jupyter-widgets/base",
            "_model_module_version": "1.5.0",
            "_view_count": null,
            "_view_module_version": "1.2.0",
            "_model_module": "@jupyter-widgets/controls"
          }
        },
        "286698bf24434a08961e5313a98b5ffe": {
          "model_module": "@jupyter-widgets/base",
          "model_name": "LayoutModel",
          "state": {
            "_view_name": "LayoutView",
            "grid_template_rows": null,
            "right": null,
            "justify_content": null,
            "_view_module": "@jupyter-widgets/base",
            "overflow": null,
            "_model_module_version": "1.2.0",
            "_view_count": null,
            "flex_flow": null,
            "width": null,
            "min_width": null,
            "border": null,
            "align_items": null,
            "bottom": null,
            "_model_module": "@jupyter-widgets/base",
            "top": null,
            "grid_column": null,
            "overflow_y": null,
            "overflow_x": null,
            "grid_auto_flow": null,
            "grid_area": null,
            "grid_template_columns": null,
            "flex": null,
            "_model_name": "LayoutModel",
            "justify_items": null,
            "grid_row": null,
            "max_height": null,
            "align_content": null,
            "visibility": null,
            "align_self": null,
            "height": null,
            "min_height": null,
            "padding": null,
            "grid_auto_rows": null,
            "grid_gap": null,
            "max_width": null,
            "order": null,
            "_view_module_version": "1.2.0",
            "grid_template_areas": null,
            "object_position": null,
            "object_fit": null,
            "grid_auto_columns": null,
            "margin": null,
            "display": null,
            "left": null
          }
        }
      }
    }
  },
  "cells": [
    {
      "cell_type": "code",
      "metadata": {
        "id": "HqzPTtJwj1D0",
        "colab_type": "code",
        "colab": {}
      },
      "source": [
        "import torch\n",
        "import numpy as np\n",
        "import torch.nn as nn\n",
        "import torch.nn.functional as F\n",
        "import torchvision\n",
        "import torchvision.transforms as transforms\n",
        "from torch.utils.data import DataLoader\n",
        "from torchvision import datasets\n",
        "import matplotlib.pyplot as plt\n",
        "from IPython import display\n",
        "from torch.autograd.variable import Variable\n",
        "import time\n",
        "from PIL import Image\n",
        "import imageio\n",
        "from torchsummary import summary\n",
        "\n",
        "%matplotlib inline"
      ],
      "execution_count": 0,
      "outputs": []
    },
    {
      "cell_type": "code",
      "metadata": {
        "id": "ZFUYmKAeSmzk",
        "colab_type": "code",
        "outputId": "69dda364-a8cb-4a30-fe73-725d89156ef7",
        "colab": {
          "base_uri": "https://localhost:8080/",
          "height": 34
        }
      },
      "source": [
        "device = 'cpu'\n",
        "if torch.cuda.is_available():\n",
        "  device = 'cuda'\n",
        "print(device)   "
      ],
      "execution_count": 0,
      "outputs": [
        {
          "output_type": "stream",
          "text": [
            "cuda\n"
          ],
          "name": "stdout"
        }
      ]
    },
    {
      "cell_type": "code",
      "metadata": {
        "id": "oxxbk6uUkxm0",
        "colab_type": "code",
        "colab": {}
      },
      "source": [
        "class Generator(nn.Module):\n",
        "\n",
        "  \"\"\"\n",
        "  the generator in a GAN\n",
        "  \"\"\"\n",
        "  def __init__(self):\n",
        "    super().__init__()\n",
        "\n",
        "    n_features = 100\n",
        "    n_out = 784\n",
        "    self.hidden0 = nn.Sequential(\n",
        "        nn.Linear(n_features,256),\n",
        "        nn.LeakyReLU(0.2)\n",
        "    )\n",
        "    self.hidden1 = nn.Sequential(\n",
        "        nn.Linear(256,512),\n",
        "        nn.LeakyReLU(0.2)\n",
        "    )\n",
        "    self.hidden2 = nn.Sequential(\n",
        "        nn.Linear(512,1024),\n",
        "        nn.LeakyReLU(0.2)\n",
        "    )\n",
        "    self.out = nn.Sequential(\n",
        "        nn.Linear(1024,n_out),\n",
        "        nn.Tanh()\n",
        "    )\n",
        "\n",
        "  def forward(self,x):\n",
        "\n",
        "    x = self.hidden0(x)\n",
        "    x = self.hidden1(x)\n",
        "    x = self.hidden2(x)\n",
        "    x = self.out(x)\n",
        "    return x\n",
        "\n",
        "def noise(size):\n",
        "  n = Variable(torch.randn(size, 100))\n",
        "  return n.to(device)"
      ],
      "execution_count": 0,
      "outputs": []
    },
    {
      "cell_type": "code",
      "metadata": {
        "id": "71vIwOE45Ix8",
        "colab_type": "code",
        "colab": {}
      },
      "source": [
        "\n",
        "class Discriminator(nn.Module):\n",
        "\n",
        "  def __init__(self):\n",
        "\n",
        "    super().__init__()\n",
        "    n_features = 784\n",
        "    n_out = 1\n",
        "\n",
        "    self.hidden0 = nn.Sequential(\n",
        "        nn.Linear(n_features,1024),\n",
        "        nn.LeakyReLU(0.2),\n",
        "        nn.Dropout(0.3)\n",
        "    )\n",
        "    self.hidden1 = nn.Sequential(\n",
        "        nn.Linear(1024,512),\n",
        "        nn.LeakyReLU(0.2),\n",
        "        nn.Dropout(0.3)\n",
        "    )\n",
        "    self.hidden2 = nn.Sequential(\n",
        "        nn.Linear(512,256),\n",
        "        nn.LeakyReLU(0.2),\n",
        "        nn.Dropout(0.3)\n",
        "    )\n",
        "    self.out = nn.Sequential(\n",
        "        nn.Linear(256,n_out),\n",
        "        nn.Sigmoid()\n",
        "    )    \n",
        "  def forward(self, x):\n",
        "    x = x.view(-1,784)\n",
        "    x = self.hidden0(x)\n",
        "    x = self.hidden1(x)\n",
        "    x = self.hidden2(x)\n",
        "    x = self.out(x)\n",
        "    return x\n",
        "\n",
        "\n",
        "def images_to_vectors(images):\n",
        "  return images.view(images.size(0), 784)\n",
        "\n",
        "def vectors_to_images(vectors):\n",
        "  return vectors.view(vectors.size(0), 1, 28, 28)      "
      ],
      "execution_count": 0,
      "outputs": []
    },
    {
      "cell_type": "code",
      "metadata": {
        "id": "6z5M6SlfGL1s",
        "colab_type": "code",
        "outputId": "0b2757d7-1f42-4649-ccb6-c58e39e6b342",
        "colab": {
          "base_uri": "https://localhost:8080/",
          "height": 330
        }
      },
      "source": [
        "discriminator = Discriminator()\n",
        "generator = Generator()\n",
        "discriminator.to(device)\n",
        "generator.to(device)"
      ],
      "execution_count": 0,
      "outputs": [
        {
          "output_type": "execute_result",
          "data": {
            "text/plain": [
              "Generator(\n",
              "  (hidden0): Sequential(\n",
              "    (0): Linear(in_features=100, out_features=256, bias=True)\n",
              "    (1): LeakyReLU(negative_slope=0.2)\n",
              "  )\n",
              "  (hidden1): Sequential(\n",
              "    (0): Linear(in_features=256, out_features=512, bias=True)\n",
              "    (1): LeakyReLU(negative_slope=0.2)\n",
              "  )\n",
              "  (hidden2): Sequential(\n",
              "    (0): Linear(in_features=512, out_features=1024, bias=True)\n",
              "    (1): LeakyReLU(negative_slope=0.2)\n",
              "  )\n",
              "  (out): Sequential(\n",
              "    (0): Linear(in_features=1024, out_features=784, bias=True)\n",
              "    (1): Tanh()\n",
              "  )\n",
              ")"
            ]
          },
          "metadata": {
            "tags": []
          },
          "execution_count": 9
        }
      ]
    },
    {
      "cell_type": "code",
      "metadata": {
        "id": "VFbKw5wbfkII",
        "colab_type": "code",
        "outputId": "c27d90ce-0918-419d-ea14-1dacb9a4e793",
        "colab": {
          "base_uri": "https://localhost:8080/",
          "height": 382
        }
      },
      "source": [
        "summary(generator,(1,100))"
      ],
      "execution_count": 0,
      "outputs": [
        {
          "output_type": "stream",
          "text": [
            "----------------------------------------------------------------\n",
            "        Layer (type)               Output Shape         Param #\n",
            "================================================================\n",
            "            Linear-1               [-1, 1, 256]          25,856\n",
            "         LeakyReLU-2               [-1, 1, 256]               0\n",
            "            Linear-3               [-1, 1, 512]         131,584\n",
            "         LeakyReLU-4               [-1, 1, 512]               0\n",
            "            Linear-5              [-1, 1, 1024]         525,312\n",
            "         LeakyReLU-6              [-1, 1, 1024]               0\n",
            "            Linear-7               [-1, 1, 784]         803,600\n",
            "              Tanh-8               [-1, 1, 784]               0\n",
            "================================================================\n",
            "Total params: 1,486,352\n",
            "Trainable params: 1,486,352\n",
            "Non-trainable params: 0\n",
            "----------------------------------------------------------------\n",
            "Input size (MB): 0.00\n",
            "Forward/backward pass size (MB): 0.04\n",
            "Params size (MB): 5.67\n",
            "Estimated Total Size (MB): 5.71\n",
            "----------------------------------------------------------------\n"
          ],
          "name": "stdout"
        }
      ]
    },
    {
      "cell_type": "code",
      "metadata": {
        "id": "cmd8rXH-ftjQ",
        "colab_type": "code",
        "outputId": "5a19de4a-09ab-435f-a3b8-3aea2d85a407",
        "colab": {
          "base_uri": "https://localhost:8080/",
          "height": 434
        }
      },
      "source": [
        "summary(discriminator,generator(noise(1)).shape)"
      ],
      "execution_count": 0,
      "outputs": [
        {
          "output_type": "stream",
          "text": [
            "----------------------------------------------------------------\n",
            "        Layer (type)               Output Shape         Param #\n",
            "================================================================\n",
            "            Linear-1                 [-1, 1024]         803,840\n",
            "         LeakyReLU-2                 [-1, 1024]               0\n",
            "           Dropout-3                 [-1, 1024]               0\n",
            "            Linear-4                  [-1, 512]         524,800\n",
            "         LeakyReLU-5                  [-1, 512]               0\n",
            "           Dropout-6                  [-1, 512]               0\n",
            "            Linear-7                  [-1, 256]         131,328\n",
            "         LeakyReLU-8                  [-1, 256]               0\n",
            "           Dropout-9                  [-1, 256]               0\n",
            "           Linear-10                    [-1, 1]             257\n",
            "          Sigmoid-11                    [-1, 1]               0\n",
            "================================================================\n",
            "Total params: 1,460,225\n",
            "Trainable params: 1,460,225\n",
            "Non-trainable params: 0\n",
            "----------------------------------------------------------------\n",
            "Input size (MB): 0.00\n",
            "Forward/backward pass size (MB): 0.04\n",
            "Params size (MB): 5.57\n",
            "Estimated Total Size (MB): 5.61\n",
            "----------------------------------------------------------------\n"
          ],
          "name": "stdout"
        }
      ]
    },
    {
      "cell_type": "code",
      "metadata": {
        "id": "I13iBOB2Tg3c",
        "colab_type": "code",
        "colab": {}
      },
      "source": [
        "def real_data_target(size):\n",
        "    '''\n",
        "    Tensor containing ones, with shape = size\n",
        "    '''\n",
        "    data = Variable(torch.ones(size, 1))\n",
        "    return data.to(device)\n",
        "\n",
        "def fake_data_target(size):\n",
        "    '''\n",
        "    Tensor containing zeros, with shape = size\n",
        "    '''\n",
        "    data = Variable(torch.zeros(size, 1))\n",
        "    return data.to(device)"
      ],
      "execution_count": 0,
      "outputs": []
    },
    {
      "cell_type": "code",
      "metadata": {
        "id": "_0nmI3NmqGvY",
        "colab_type": "code",
        "outputId": "b312996c-5380-4b9a-f302-8d0b6be2b6f1",
        "colab": {
          "base_uri": "https://localhost:8080/",
          "height": 373,
          "referenced_widgets": [
            "0716c67cea8a4d1ea326dc09e9af3a57",
            "574497b41e454ec99612cf500b700f1b",
            "747e25ce027d4cda883b0185a340ed1d",
            "aa0bb747b3c14fe0a22921a8713bd67c",
            "f4efc9d8ff3f425a8d88d1a8c1c47c45",
            "aeda9e033dbb455fb3b8ba192d3451e9",
            "ec0e23e6e3294d0e8ea216afc82d6819",
            "48576777d30340dab45a37f99748d834",
            "ab316e90da784994bf6bfbff236722a5",
            "330fc81337424408b005cd62d05dd1a2",
            "34c43dd6c4864a9b95881bc91f365419",
            "2bedbd76f4214d02a4e0c88947f155ad",
            "8d990cc973c148ae80ad49460cb93e7f",
            "ea57496e08b34b3f9f985612b240a1e6",
            "e02edaaf77c34730adf9b81958249376",
            "f17a4053f6034fb2a4aeae7514c05419",
            "65744ceddb89460897ad98be80d567e2",
            "93cb5b314cf840d48703942ad2ee360c",
            "fcc7c60bfe0f4459ae5ce34aca80d405",
            "1d2ebde64bf045d087fad1188aca52eb",
            "34836d3ac2384e9dba26218b046639ac",
            "4e9562ef95254571b5fa0f09c5e2e90e",
            "b83eb75f48184daa8c66a68df7c43ace",
            "0df73fa6bf384658adf944b8830e57c1",
            "8854be51d6c6440c88a4f33e73b9572c",
            "3cc81b92c48f4b0c977dd48008b17718",
            "65a0a5e738a945a58d3e8bb254b7c814",
            "5f6681f6a9ab4029aa20ed2285ca0cf0",
            "80401522c1064129aa4a35ae84eb0589",
            "0a8e71ffd78042efa1005e88cadc29de",
            "1d1c6155a4a546018bcc4586e5f6bdf2",
            "286698bf24434a08961e5313a98b5ffe"
          ]
        }
      },
      "source": [
        "batch_size = 100\n",
        "compose = transforms.Compose(\n",
        "        [transforms.ToTensor(),\n",
        "         transforms.Normalize((.5,), (.5,))\n",
        "        ])\n",
        "data = datasets.MNIST(root='./Data', train=True, transform=compose, download=True)\n",
        "data_loader = torch.utils.data.DataLoader(data, batch_size=batch_size, shuffle=True)\n",
        "\n",
        "num_batches = len(data_loader)\n"
      ],
      "execution_count": 0,
      "outputs": [
        {
          "output_type": "stream",
          "text": [
            "Downloading http://yann.lecun.com/exdb/mnist/train-images-idx3-ubyte.gz to ./Data/MNIST/raw/train-images-idx3-ubyte.gz\n"
          ],
          "name": "stdout"
        },
        {
          "output_type": "display_data",
          "data": {
            "application/vnd.jupyter.widget-view+json": {
              "model_id": "0716c67cea8a4d1ea326dc09e9af3a57",
              "version_minor": 0,
              "version_major": 2
            },
            "text/plain": [
              "HBox(children=(FloatProgress(value=1.0, bar_style='info', max=1.0), HTML(value='')))"
            ]
          },
          "metadata": {
            "tags": []
          }
        },
        {
          "output_type": "stream",
          "text": [
            "Extracting ./Data/MNIST/raw/train-images-idx3-ubyte.gz to ./Data/MNIST/raw\n",
            "Downloading http://yann.lecun.com/exdb/mnist/train-labels-idx1-ubyte.gz to ./Data/MNIST/raw/train-labels-idx1-ubyte.gz\n"
          ],
          "name": "stdout"
        },
        {
          "output_type": "display_data",
          "data": {
            "application/vnd.jupyter.widget-view+json": {
              "model_id": "ab316e90da784994bf6bfbff236722a5",
              "version_minor": 0,
              "version_major": 2
            },
            "text/plain": [
              "HBox(children=(FloatProgress(value=1.0, bar_style='info', max=1.0), HTML(value='')))"
            ]
          },
          "metadata": {
            "tags": []
          }
        },
        {
          "output_type": "stream",
          "text": [
            "Extracting ./Data/MNIST/raw/train-labels-idx1-ubyte.gz to ./Data/MNIST/raw\n",
            "Downloading http://yann.lecun.com/exdb/mnist/t10k-images-idx3-ubyte.gz to ./Data/MNIST/raw/t10k-images-idx3-ubyte.gz\n",
            "\n"
          ],
          "name": "stdout"
        },
        {
          "output_type": "display_data",
          "data": {
            "application/vnd.jupyter.widget-view+json": {
              "model_id": "65744ceddb89460897ad98be80d567e2",
              "version_minor": 0,
              "version_major": 2
            },
            "text/plain": [
              "HBox(children=(FloatProgress(value=1.0, bar_style='info', max=1.0), HTML(value='')))"
            ]
          },
          "metadata": {
            "tags": []
          }
        },
        {
          "output_type": "stream",
          "text": [
            "Extracting ./Data/MNIST/raw/t10k-images-idx3-ubyte.gz to ./Data/MNIST/raw\n",
            "Downloading http://yann.lecun.com/exdb/mnist/t10k-labels-idx1-ubyte.gz to ./Data/MNIST/raw/t10k-labels-idx1-ubyte.gz\n"
          ],
          "name": "stdout"
        },
        {
          "output_type": "display_data",
          "data": {
            "application/vnd.jupyter.widget-view+json": {
              "model_id": "8854be51d6c6440c88a4f33e73b9572c",
              "version_minor": 0,
              "version_major": 2
            },
            "text/plain": [
              "HBox(children=(FloatProgress(value=1.0, bar_style='info', max=1.0), HTML(value='')))"
            ]
          },
          "metadata": {
            "tags": []
          }
        },
        {
          "output_type": "stream",
          "text": [
            "Extracting ./Data/MNIST/raw/t10k-labels-idx1-ubyte.gz to ./Data/MNIST/raw\n",
            "Processing...\n",
            "Done!\n"
          ],
          "name": "stdout"
        },
        {
          "output_type": "stream",
          "text": [
            "/pytorch/torch/csrc/utils/tensor_numpy.cpp:141: UserWarning: The given NumPy array is not writeable, and PyTorch does not support non-writeable tensors. This means you can write to the underlying (supposedly non-writeable) NumPy array using the tensor. You may want to copy the array to protect its data or make it writeable before converting it to a tensor. This type of warning will be suppressed for the rest of this program.\n"
          ],
          "name": "stderr"
        }
      ]
    },
    {
      "cell_type": "code",
      "metadata": {
        "id": "vpEvRWAasXGc",
        "colab_type": "code",
        "colab": {}
      },
      "source": [
        "d_optimizer = torch.optim.Adam(discriminator.parameters(), lr=0.0002)\n",
        "g_optimizer = torch.optim.Adam(generator.parameters(), lr=0.0002)\n",
        "g_losses = []\n",
        "d_losses = []\n",
        "images = []\n",
        "criterion = nn.BCELoss()\n",
        "d_steps = 1  \n",
        "num_epochs = 200"
      ],
      "execution_count": 0,
      "outputs": []
    },
    {
      "cell_type": "code",
      "metadata": {
        "id": "KPIYNLQbpj2k",
        "colab_type": "code",
        "colab": {}
      },
      "source": [
        "def train_discriminator(optimizer,real_data,fake_data):\n",
        "\n",
        "  optimizer.zero_grad()\n",
        "  prediction_real = discriminator(real_data)\n",
        "  loss_real = criterion(prediction_real,real_data_target(real_data.size(0)))\n",
        "  loss_real.backward()\n",
        "\n",
        "  prediction_fake = discriminator(fake_data)\n",
        "  loss_fake = criterion(prediction_fake,fake_data_target(fake_data.size(0)))\n",
        "  loss_fake.backward()\n",
        "\n",
        "  optimizer.step()\n",
        "\n",
        "  return loss_real+loss_fake\n",
        "def train_generator(optimizer,fake_data):\n",
        "\n",
        "  optimizer.zero_grad()\n",
        "  prediction = discriminator(fake_data)\n",
        "  error = criterion(prediction,real_data_target(prediction.size(0)))\n",
        "  error.backward()\n",
        "  optimizer.step()\n",
        "\n",
        "  return error"
      ],
      "execution_count": 0,
      "outputs": []
    },
    {
      "cell_type": "code",
      "metadata": {
        "id": "gwyjpjilT3M4",
        "colab_type": "code",
        "colab": {}
      },
      "source": [
        "\n",
        "test_noise = noise(64)"
      ],
      "execution_count": 0,
      "outputs": []
    },
    {
      "cell_type": "code",
      "metadata": {
        "id": "oolSE3LHJpE0",
        "colab_type": "code",
        "outputId": "1c84211d-5fb6-4277-b0af-bc2441d65212",
        "colab": {
          "base_uri": "https://localhost:8080/",
          "height": 1000
        }
      },
      "source": [
        "generator.train()\n",
        "discriminator.train()\n",
        "\n",
        "for epoch in range(num_epochs):\n",
        "  \n",
        "  start_time = time.time()\n",
        "  g_error=0.0\n",
        "  d_error=0.0\n",
        "  for i,data in enumerate(data_loader):\n",
        "\n",
        "    imgs,_ = data\n",
        "    n = len(imgs)\n",
        "    for j in range(d_steps):\n",
        "\n",
        "      fake_data = generator(noise(n)).detach()\n",
        "      real_data = imgs.to(device)\n",
        "      d_error+=train_discriminator(d_optimizer, real_data, fake_data)\n",
        "    fake_data = generator(noise(n))\n",
        "    g_error+=train_generator(g_optimizer,fake_data)\n",
        "\n",
        "  img = generator(test_noise).reshape(-1,1,28,28).cpu().detach()\n",
        "  img_grid = torchvision.utils.make_grid(img)\n",
        "  images.append(img_grid)\n",
        "  g_losses.append(g_error/i) #mean error \n",
        "  d_losses.append(d_error/i) # mean error\n",
        "  print(f'Epoch {epoch}: g_loss: {(g_error/i):.8f} d_loss: {(d_error/i):.8f} time:{time.time()-start_time} seconds')      \n"
      ],
      "execution_count": 0,
      "outputs": [
        {
          "output_type": "stream",
          "text": [
            "Epoch 0: g_loss: 2.91687942 d_loss: 0.93009096 time:19.544440746307373 seconds\n",
            "Epoch 1: g_loss: 2.07811284 d_loss: 0.89270914 time:19.51482105255127 seconds\n",
            "Epoch 2: g_loss: 2.65891933 d_loss: 0.57928854 time:19.343636751174927 seconds\n",
            "Epoch 3: g_loss: 3.18902707 d_loss: 0.40044227 time:19.290306329727173 seconds\n",
            "Epoch 4: g_loss: 2.91292787 d_loss: 0.50443447 time:19.31696343421936 seconds\n",
            "Epoch 5: g_loss: 2.56522894 d_loss: 0.60115874 time:19.314801454544067 seconds\n",
            "Epoch 6: g_loss: 2.88774848 d_loss: 0.49996656 time:19.300039768218994 seconds\n",
            "Epoch 7: g_loss: 2.43171287 d_loss: 0.63164854 time:19.315078020095825 seconds\n",
            "Epoch 8: g_loss: 2.30523181 d_loss: 0.66707361 time:19.357563972473145 seconds\n",
            "Epoch 9: g_loss: 2.07609224 d_loss: 0.73720819 time:19.250924348831177 seconds\n",
            "Epoch 10: g_loss: 2.20453191 d_loss: 0.71978813 time:19.30229139328003 seconds\n",
            "Epoch 11: g_loss: 2.05114007 d_loss: 0.74485093 time:19.36535143852234 seconds\n",
            "Epoch 12: g_loss: 2.01394749 d_loss: 0.74631757 time:19.311466455459595 seconds\n",
            "Epoch 13: g_loss: 1.81848836 d_loss: 0.82703084 time:19.34811806678772 seconds\n",
            "Epoch 14: g_loss: 1.70418704 d_loss: 0.86690575 time:19.3830726146698 seconds\n",
            "Epoch 15: g_loss: 1.70339358 d_loss: 0.88724041 time:19.318965435028076 seconds\n",
            "Epoch 16: g_loss: 1.71928167 d_loss: 0.87206978 time:19.500164031982422 seconds\n",
            "Epoch 17: g_loss: 1.71953845 d_loss: 0.86519635 time:19.364925146102905 seconds\n",
            "Epoch 18: g_loss: 1.60409784 d_loss: 0.90734583 time:19.345033407211304 seconds\n",
            "Epoch 19: g_loss: 1.60445309 d_loss: 0.92283827 time:19.185707092285156 seconds\n",
            "Epoch 20: g_loss: 1.58356345 d_loss: 0.92240757 time:19.325607776641846 seconds\n",
            "Epoch 21: g_loss: 1.58000875 d_loss: 0.92023051 time:19.302801609039307 seconds\n",
            "Epoch 22: g_loss: 1.64684224 d_loss: 0.91041207 time:19.314396142959595 seconds\n",
            "Epoch 23: g_loss: 1.46484733 d_loss: 0.96802080 time:19.264307737350464 seconds\n",
            "Epoch 24: g_loss: 1.42414439 d_loss: 0.99858475 time:19.29871678352356 seconds\n",
            "Epoch 25: g_loss: 1.43168485 d_loss: 0.99085766 time:19.343222618103027 seconds\n",
            "Epoch 26: g_loss: 1.34368229 d_loss: 1.02540708 time:19.291358709335327 seconds\n",
            "Epoch 27: g_loss: 1.33005309 d_loss: 1.04756296 time:19.297165632247925 seconds\n",
            "Epoch 28: g_loss: 1.36211669 d_loss: 1.02259183 time:19.368978261947632 seconds\n",
            "Epoch 29: g_loss: 1.32728732 d_loss: 1.03648615 time:19.332700967788696 seconds\n",
            "Epoch 30: g_loss: 1.29065025 d_loss: 1.04984224 time:19.25870180130005 seconds\n",
            "Epoch 31: g_loss: 1.31120098 d_loss: 1.04668772 time:19.272886037826538 seconds\n",
            "Epoch 32: g_loss: 1.33348358 d_loss: 1.03874278 time:19.533567190170288 seconds\n",
            "Epoch 33: g_loss: 1.30899298 d_loss: 1.04629147 time:19.455253839492798 seconds\n",
            "Epoch 34: g_loss: 1.28971386 d_loss: 1.05442011 time:19.34491467475891 seconds\n",
            "Epoch 35: g_loss: 1.27646983 d_loss: 1.06898010 time:19.39301323890686 seconds\n",
            "Epoch 36: g_loss: 1.23415542 d_loss: 1.09037232 time:19.41765332221985 seconds\n",
            "Epoch 37: g_loss: 1.24197829 d_loss: 1.08319998 time:19.22234582901001 seconds\n",
            "Epoch 38: g_loss: 1.23279500 d_loss: 1.09688115 time:19.349284887313843 seconds\n",
            "Epoch 39: g_loss: 1.22209656 d_loss: 1.09293926 time:19.40859341621399 seconds\n",
            "Epoch 40: g_loss: 1.19649577 d_loss: 1.10884774 time:19.297280311584473 seconds\n",
            "Epoch 41: g_loss: 1.17491591 d_loss: 1.12602091 time:19.28389072418213 seconds\n",
            "Epoch 42: g_loss: 1.18705928 d_loss: 1.11459744 time:19.190711498260498 seconds\n",
            "Epoch 43: g_loss: 1.14287794 d_loss: 1.12754178 time:19.190019845962524 seconds\n",
            "Epoch 44: g_loss: 1.14360988 d_loss: 1.14147425 time:19.25118112564087 seconds\n",
            "Epoch 45: g_loss: 1.10334611 d_loss: 1.15873778 time:19.35491156578064 seconds\n",
            "Epoch 46: g_loss: 1.10967898 d_loss: 1.15920866 time:19.35344958305359 seconds\n",
            "Epoch 47: g_loss: 1.11788762 d_loss: 1.15478528 time:19.245516538619995 seconds\n",
            "Epoch 48: g_loss: 1.07492578 d_loss: 1.17428279 time:19.517341136932373 seconds\n",
            "Epoch 49: g_loss: 1.06197536 d_loss: 1.18221247 time:19.40778088569641 seconds\n",
            "Epoch 50: g_loss: 1.07821465 d_loss: 1.17317009 time:19.309624195098877 seconds\n",
            "Epoch 51: g_loss: 1.09373152 d_loss: 1.16594517 time:19.33289098739624 seconds\n",
            "Epoch 52: g_loss: 1.05079520 d_loss: 1.18194652 time:19.35566997528076 seconds\n",
            "Epoch 53: g_loss: 1.07527697 d_loss: 1.18355465 time:19.410887002944946 seconds\n",
            "Epoch 54: g_loss: 1.04713237 d_loss: 1.18597233 time:19.317340850830078 seconds\n",
            "Epoch 55: g_loss: 1.04192817 d_loss: 1.19139719 time:19.526694536209106 seconds\n",
            "Epoch 56: g_loss: 1.04365396 d_loss: 1.19184339 time:19.477999210357666 seconds\n",
            "Epoch 57: g_loss: 1.01893306 d_loss: 1.20375323 time:19.400425672531128 seconds\n",
            "Epoch 58: g_loss: 1.02352941 d_loss: 1.20572424 time:19.412943840026855 seconds\n",
            "Epoch 59: g_loss: 1.01833093 d_loss: 1.20158112 time:19.489204168319702 seconds\n",
            "Epoch 60: g_loss: 1.01872694 d_loss: 1.20804858 time:19.3991482257843 seconds\n",
            "Epoch 61: g_loss: 1.02508140 d_loss: 1.20595562 time:19.4370596408844 seconds\n",
            "Epoch 62: g_loss: 1.02120757 d_loss: 1.20865822 time:19.385682582855225 seconds\n",
            "Epoch 63: g_loss: 1.02022231 d_loss: 1.20270753 time:19.408666849136353 seconds\n",
            "Epoch 64: g_loss: 1.00850117 d_loss: 1.21127236 time:19.70773983001709 seconds\n",
            "Epoch 65: g_loss: 1.00493979 d_loss: 1.21587205 time:19.51218581199646 seconds\n",
            "Epoch 66: g_loss: 0.97330236 d_loss: 1.23078334 time:19.496089935302734 seconds\n",
            "Epoch 67: g_loss: 0.98613459 d_loss: 1.22623956 time:19.429450035095215 seconds\n",
            "Epoch 68: g_loss: 1.00408924 d_loss: 1.22187507 time:19.43472146987915 seconds\n",
            "Epoch 69: g_loss: 0.97558731 d_loss: 1.23204911 time:19.50885272026062 seconds\n",
            "Epoch 70: g_loss: 0.97438252 d_loss: 1.23532200 time:19.545414447784424 seconds\n",
            "Epoch 71: g_loss: 0.99727547 d_loss: 1.21585846 time:19.478936910629272 seconds\n",
            "Epoch 72: g_loss: 0.97609234 d_loss: 1.23443961 time:19.46459197998047 seconds\n",
            "Epoch 73: g_loss: 0.98772681 d_loss: 1.23226357 time:19.422395944595337 seconds\n",
            "Epoch 74: g_loss: 0.98992425 d_loss: 1.22373950 time:19.380858182907104 seconds\n",
            "Epoch 75: g_loss: 0.97717810 d_loss: 1.23275197 time:19.332536935806274 seconds\n",
            "Epoch 76: g_loss: 0.95402563 d_loss: 1.24193132 time:19.31673526763916 seconds\n",
            "Epoch 77: g_loss: 0.95238590 d_loss: 1.24428213 time:19.31395149230957 seconds\n",
            "Epoch 78: g_loss: 0.95521849 d_loss: 1.24589527 time:19.370073080062866 seconds\n",
            "Epoch 79: g_loss: 0.95030403 d_loss: 1.24780822 time:19.388651371002197 seconds\n",
            "Epoch 80: g_loss: 0.96632886 d_loss: 1.23487377 time:19.75234341621399 seconds\n",
            "Epoch 81: g_loss: 0.96336746 d_loss: 1.24430275 time:19.423428773880005 seconds\n",
            "Epoch 82: g_loss: 0.94038147 d_loss: 1.24985862 time:19.347904682159424 seconds\n",
            "Epoch 83: g_loss: 0.93482238 d_loss: 1.25661874 time:19.414029121398926 seconds\n",
            "Epoch 84: g_loss: 0.94560534 d_loss: 1.24952483 time:19.480491161346436 seconds\n",
            "Epoch 85: g_loss: 0.93259931 d_loss: 1.25617325 time:19.32895588874817 seconds\n",
            "Epoch 86: g_loss: 0.95497322 d_loss: 1.24964750 time:19.344850540161133 seconds\n",
            "Epoch 87: g_loss: 0.94743496 d_loss: 1.25218391 time:19.396953344345093 seconds\n",
            "Epoch 88: g_loss: 0.94625264 d_loss: 1.24654567 time:19.264976739883423 seconds\n",
            "Epoch 89: g_loss: 0.94052964 d_loss: 1.25153553 time:19.298617839813232 seconds\n",
            "Epoch 90: g_loss: 0.91647828 d_loss: 1.26053178 time:19.251484394073486 seconds\n",
            "Epoch 91: g_loss: 0.94083941 d_loss: 1.25252783 time:19.34300446510315 seconds\n",
            "Epoch 92: g_loss: 0.94236749 d_loss: 1.25523496 time:19.27792525291443 seconds\n",
            "Epoch 93: g_loss: 0.94957513 d_loss: 1.24958396 time:19.262914657592773 seconds\n",
            "Epoch 94: g_loss: 0.94606119 d_loss: 1.24661863 time:19.329469680786133 seconds\n",
            "Epoch 95: g_loss: 0.94557375 d_loss: 1.25389588 time:19.4559383392334 seconds\n",
            "Epoch 96: g_loss: 0.91956306 d_loss: 1.26340878 time:19.500676155090332 seconds\n",
            "Epoch 97: g_loss: 0.92332381 d_loss: 1.25848651 time:19.23756504058838 seconds\n",
            "Epoch 98: g_loss: 0.93213195 d_loss: 1.26414764 time:19.28178596496582 seconds\n",
            "Epoch 99: g_loss: 0.94238675 d_loss: 1.24960303 time:19.31825566291809 seconds\n",
            "Epoch 100: g_loss: 0.93371129 d_loss: 1.25735676 time:19.481773376464844 seconds\n",
            "Epoch 101: g_loss: 0.91723841 d_loss: 1.26172423 time:19.425360679626465 seconds\n",
            "Epoch 102: g_loss: 0.93111664 d_loss: 1.25666285 time:19.38508439064026 seconds\n",
            "Epoch 103: g_loss: 0.92540562 d_loss: 1.25690210 time:19.372506856918335 seconds\n",
            "Epoch 104: g_loss: 0.91013187 d_loss: 1.26984715 time:19.346598863601685 seconds\n",
            "Epoch 105: g_loss: 0.90461099 d_loss: 1.26906765 time:19.409523963928223 seconds\n",
            "Epoch 106: g_loss: 0.93199456 d_loss: 1.25915372 time:19.336924076080322 seconds\n",
            "Epoch 107: g_loss: 0.91487408 d_loss: 1.26267576 time:19.38142681121826 seconds\n",
            "Epoch 108: g_loss: 0.91137415 d_loss: 1.26796532 time:19.360801935195923 seconds\n",
            "Epoch 109: g_loss: 0.94075906 d_loss: 1.25909078 time:19.421569347381592 seconds\n",
            "Epoch 110: g_loss: 0.90674132 d_loss: 1.26867962 time:19.3564133644104 seconds\n",
            "Epoch 111: g_loss: 0.90769231 d_loss: 1.27494800 time:19.438347101211548 seconds\n",
            "Epoch 112: g_loss: 0.90390229 d_loss: 1.27169144 time:19.652764081954956 seconds\n",
            "Epoch 113: g_loss: 0.90829897 d_loss: 1.26995766 time:19.396827936172485 seconds\n",
            "Epoch 114: g_loss: 0.88187790 d_loss: 1.27988613 time:19.35390877723694 seconds\n",
            "Epoch 115: g_loss: 0.89861363 d_loss: 1.27904928 time:19.419095754623413 seconds\n",
            "Epoch 116: g_loss: 0.90899849 d_loss: 1.26924777 time:19.41154384613037 seconds\n",
            "Epoch 117: g_loss: 0.91695434 d_loss: 1.26952767 time:19.394392490386963 seconds\n",
            "Epoch 118: g_loss: 0.89469385 d_loss: 1.27295160 time:19.268537282943726 seconds\n",
            "Epoch 119: g_loss: 0.90633738 d_loss: 1.27898550 time:19.41846990585327 seconds\n",
            "Epoch 120: g_loss: 0.90602124 d_loss: 1.27368355 time:19.363565921783447 seconds\n",
            "Epoch 121: g_loss: 0.90580958 d_loss: 1.27528501 time:19.368593454360962 seconds\n",
            "Epoch 122: g_loss: 0.91135901 d_loss: 1.26912820 time:19.458320379257202 seconds\n",
            "Epoch 123: g_loss: 0.89619601 d_loss: 1.27845323 time:19.293368339538574 seconds\n",
            "Epoch 124: g_loss: 0.90439427 d_loss: 1.27118838 time:19.4022216796875 seconds\n",
            "Epoch 125: g_loss: 0.90698057 d_loss: 1.27341282 time:19.395495176315308 seconds\n",
            "Epoch 126: g_loss: 0.89920199 d_loss: 1.27282846 time:19.33194875717163 seconds\n",
            "Epoch 127: g_loss: 0.88977414 d_loss: 1.27861297 time:19.501654148101807 seconds\n",
            "Epoch 128: g_loss: 0.88135272 d_loss: 1.28371477 time:19.49114990234375 seconds\n",
            "Epoch 129: g_loss: 0.88900262 d_loss: 1.28196061 time:19.400886058807373 seconds\n",
            "Epoch 130: g_loss: 0.90574139 d_loss: 1.27148914 time:19.32682752609253 seconds\n",
            "Epoch 131: g_loss: 0.88972914 d_loss: 1.27892303 time:19.4179630279541 seconds\n",
            "Epoch 132: g_loss: 0.88984323 d_loss: 1.27921975 time:19.344796895980835 seconds\n",
            "Epoch 133: g_loss: 0.89330697 d_loss: 1.27793312 time:19.367332935333252 seconds\n",
            "Epoch 134: g_loss: 0.89726752 d_loss: 1.28312719 time:19.322893857955933 seconds\n",
            "Epoch 135: g_loss: 0.89682853 d_loss: 1.27910280 time:19.241364240646362 seconds\n",
            "Epoch 136: g_loss: 0.88337380 d_loss: 1.28040481 time:19.31955122947693 seconds\n",
            "Epoch 137: g_loss: 0.88229710 d_loss: 1.28224444 time:19.305787086486816 seconds\n",
            "Epoch 138: g_loss: 0.90327096 d_loss: 1.27963424 time:19.309273958206177 seconds\n",
            "Epoch 139: g_loss: 0.89701205 d_loss: 1.27911305 time:19.33202028274536 seconds\n",
            "Epoch 140: g_loss: 0.90017480 d_loss: 1.27508211 time:19.381584644317627 seconds\n",
            "Epoch 141: g_loss: 0.89407247 d_loss: 1.27901697 time:19.34646987915039 seconds\n",
            "Epoch 142: g_loss: 0.89635962 d_loss: 1.28007841 time:19.333609342575073 seconds\n",
            "Epoch 143: g_loss: 0.88593942 d_loss: 1.27875972 time:19.427822828292847 seconds\n",
            "Epoch 144: g_loss: 0.87902504 d_loss: 1.28833354 time:19.467161417007446 seconds\n",
            "Epoch 145: g_loss: 0.88683152 d_loss: 1.28552115 time:19.3281729221344 seconds\n",
            "Epoch 146: g_loss: 0.88781381 d_loss: 1.28219581 time:19.371338844299316 seconds\n",
            "Epoch 147: g_loss: 0.88247418 d_loss: 1.28300321 time:19.297016859054565 seconds\n",
            "Epoch 148: g_loss: 0.88788921 d_loss: 1.28637612 time:19.323689937591553 seconds\n",
            "Epoch 149: g_loss: 0.86907977 d_loss: 1.29181969 time:19.432259798049927 seconds\n",
            "Epoch 150: g_loss: 0.87633938 d_loss: 1.28849304 time:19.36854600906372 seconds\n",
            "Epoch 151: g_loss: 0.86860400 d_loss: 1.29112375 time:19.32619547843933 seconds\n",
            "Epoch 152: g_loss: 0.87539268 d_loss: 1.28709173 time:19.287707090377808 seconds\n",
            "Epoch 153: g_loss: 0.88757992 d_loss: 1.28657997 time:19.409169673919678 seconds\n",
            "Epoch 154: g_loss: 0.88073659 d_loss: 1.28799200 time:19.30996584892273 seconds\n",
            "Epoch 155: g_loss: 0.88649362 d_loss: 1.28558207 time:19.270108699798584 seconds\n",
            "Epoch 156: g_loss: 0.87361622 d_loss: 1.28974652 time:19.248528480529785 seconds\n",
            "Epoch 157: g_loss: 0.87496918 d_loss: 1.28957200 time:19.30180811882019 seconds\n",
            "Epoch 158: g_loss: 0.87065589 d_loss: 1.29359746 time:19.272436380386353 seconds\n",
            "Epoch 159: g_loss: 0.85217142 d_loss: 1.29959595 time:19.34683895111084 seconds\n",
            "Epoch 160: g_loss: 0.87064689 d_loss: 1.29174829 time:19.481440782546997 seconds\n",
            "Epoch 161: g_loss: 0.86742663 d_loss: 1.29249632 time:19.333134412765503 seconds\n",
            "Epoch 162: g_loss: 0.87923735 d_loss: 1.29088724 time:19.330259323120117 seconds\n",
            "Epoch 163: g_loss: 0.86807531 d_loss: 1.29130471 time:19.338285446166992 seconds\n",
            "Epoch 164: g_loss: 0.87781006 d_loss: 1.28986585 time:19.397222995758057 seconds\n",
            "Epoch 165: g_loss: 0.87702644 d_loss: 1.28938603 time:19.395386934280396 seconds\n",
            "Epoch 166: g_loss: 0.87534857 d_loss: 1.28847682 time:19.335328817367554 seconds\n",
            "Epoch 167: g_loss: 0.85784167 d_loss: 1.29721928 time:19.37455987930298 seconds\n",
            "Epoch 168: g_loss: 0.87830359 d_loss: 1.29140449 time:19.365843772888184 seconds\n",
            "Epoch 169: g_loss: 0.87062478 d_loss: 1.29469264 time:19.37468457221985 seconds\n",
            "Epoch 170: g_loss: 0.89032060 d_loss: 1.28142786 time:19.330676555633545 seconds\n",
            "Epoch 171: g_loss: 0.86529750 d_loss: 1.29512572 time:19.27491545677185 seconds\n",
            "Epoch 172: g_loss: 0.87194681 d_loss: 1.29208004 time:19.386446952819824 seconds\n",
            "Epoch 173: g_loss: 0.87326837 d_loss: 1.29002440 time:19.22750449180603 seconds\n",
            "Epoch 174: g_loss: 0.86182809 d_loss: 1.29620206 time:19.27363657951355 seconds\n",
            "Epoch 175: g_loss: 0.86503446 d_loss: 1.29430223 time:19.461108446121216 seconds\n",
            "Epoch 176: g_loss: 0.87145615 d_loss: 1.29256439 time:19.51685643196106 seconds\n",
            "Epoch 177: g_loss: 0.87640941 d_loss: 1.28962123 time:19.488397121429443 seconds\n",
            "Epoch 178: g_loss: 0.87192833 d_loss: 1.29038012 time:19.38773536682129 seconds\n",
            "Epoch 179: g_loss: 0.85960436 d_loss: 1.29588223 time:19.330966234207153 seconds\n",
            "Epoch 180: g_loss: 0.85791826 d_loss: 1.29926348 time:19.325628757476807 seconds\n",
            "Epoch 181: g_loss: 0.87222499 d_loss: 1.29585087 time:19.41512441635132 seconds\n",
            "Epoch 182: g_loss: 0.85448384 d_loss: 1.29804087 time:19.44072961807251 seconds\n",
            "Epoch 183: g_loss: 0.86028379 d_loss: 1.29738450 time:19.556216716766357 seconds\n",
            "Epoch 184: g_loss: 0.86413467 d_loss: 1.29517674 time:19.458942413330078 seconds\n",
            "Epoch 185: g_loss: 0.86631018 d_loss: 1.29260325 time:19.392521381378174 seconds\n",
            "Epoch 186: g_loss: 0.87380493 d_loss: 1.29040945 time:19.513731002807617 seconds\n",
            "Epoch 187: g_loss: 0.86727715 d_loss: 1.29549932 time:19.427459955215454 seconds\n",
            "Epoch 188: g_loss: 0.86742419 d_loss: 1.29096675 time:19.28159189224243 seconds\n",
            "Epoch 189: g_loss: 0.87168002 d_loss: 1.29318905 time:19.28235173225403 seconds\n",
            "Epoch 190: g_loss: 0.87947744 d_loss: 1.28706872 time:19.39187979698181 seconds\n",
            "Epoch 191: g_loss: 0.86603475 d_loss: 1.29540205 time:19.434574365615845 seconds\n",
            "Epoch 192: g_loss: 0.87049103 d_loss: 1.29161358 time:19.622056484222412 seconds\n",
            "Epoch 193: g_loss: 0.86024600 d_loss: 1.29568446 time:19.45778179168701 seconds\n",
            "Epoch 194: g_loss: 0.84958720 d_loss: 1.30255520 time:19.405813932418823 seconds\n",
            "Epoch 195: g_loss: 0.86923975 d_loss: 1.29981399 time:19.394981622695923 seconds\n",
            "Epoch 196: g_loss: 0.85745692 d_loss: 1.29672027 time:19.292253494262695 seconds\n",
            "Epoch 197: g_loss: 0.86714345 d_loss: 1.29399383 time:19.418079376220703 seconds\n",
            "Epoch 198: g_loss: 0.85589576 d_loss: 1.29632056 time:19.386143922805786 seconds\n",
            "Epoch 199: g_loss: 0.86064386 d_loss: 1.29682565 time:19.29430341720581 seconds\n"
          ],
          "name": "stdout"
        }
      ]
    },
    {
      "cell_type": "code",
      "metadata": {
        "id": "JV-E4OMaVPMI",
        "colab_type": "code",
        "outputId": "38c3fcd3-5946-4d29-8cdd-8dfbdf063e5a",
        "colab": {
          "base_uri": "https://localhost:8080/",
          "height": 282
        }
      },
      "source": [
        "plt.plot(g_losses, label='Generator_Losses')\n",
        "plt.plot(d_losses, label='Discriminator Losses')\n",
        "plt.legend()"
      ],
      "execution_count": 0,
      "outputs": [
        {
          "output_type": "execute_result",
          "data": {
            "text/plain": [
              "<matplotlib.legend.Legend at 0x7f659a12a048>"
            ]
          },
          "metadata": {
            "tags": []
          },
          "execution_count": 19
        },
        {
          "output_type": "display_data",
          "data": {
            "image/png": "[encoded data removed]",
            "text/plain": [
              "<Figure size 432x288 with 1 Axes>"
            ]
          },
          "metadata": {
            "tags": [],
            "needs_background": "light"
          }
        }
      ]
    },
    {
      "cell_type": "code",
      "metadata": {
        "id": "yFwRSK7bEmfQ",
        "colab_type": "code",
        "colab": {}
      },
      "source": [
        "to_image = transforms.Compose([transforms.ToPILImage(),transforms.Resize((500,500))])"
      ],
      "execution_count": 0,
      "outputs": []
    },
    {
      "cell_type": "code",
      "metadata": {
        "id": "6urrkZDrLlHo",
        "colab_type": "code",
        "colab": {}
      },
      "source": [
        "imgs = [np.array(to_image(i)) for i in images]\n",
        "imageio.mimsave('progress.gif', imgs)"
      ],
      "execution_count": 0,
      "outputs": []
    },
    {
      "cell_type": "code",
      "metadata": {
        "id": "Oea1jO0DcZSI",
        "colab_type": "code",
        "outputId": "7d1fef49-caad-47e2-88c2-121b53248bbb",
        "colab": {
          "base_uri": "https://localhost:8080/",
          "height": 517
        }
      },
      "source": [
        "to_image(torchvision.utils.make_grid(generator(test_noise).reshape(-1,1,28,28).cpu().detach()))"
      ],
      "execution_count": 0,
      "outputs": [
        {
          "output_type": "execute_result",
          "data": {
            "image/png": "[encoded data removed]",
            "text/plain": [
              "<PIL.Image.Image image mode=RGB size=500x500 at 0x7F6598BD7A90>"
            ]
          },
          "metadata": {
            "tags": []
          },
          "execution_count": 29
        }
      ]
    }
  ]
}